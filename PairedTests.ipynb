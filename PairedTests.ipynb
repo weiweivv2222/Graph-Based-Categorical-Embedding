{
 "cells": [
  {
   "cell_type": "markdown",
   "id": "6caa9059-0c39-48b7-8254-2e2ac63ba82f",
   "metadata": {
    "tags": []
   },
   "source": [
    "# Adult"
   ]
  },
  {
   "cell_type": "code",
   "execution_count": 1,
   "id": "669c3e35-c443-46f0-98ca-0a7e9afd4f65",
   "metadata": {
    "tags": []
   },
   "outputs": [],
   "source": [
    "import comat\n",
    "import pandas as pd"
   ]
  },
  {
   "cell_type": "code",
   "execution_count": 2,
   "id": "9110c44f-a9ff-42d8-be11-808a97e939a5",
   "metadata": {
    "tags": []
   },
   "outputs": [],
   "source": [
    "\n",
    "from sklearn.preprocessing import StandardScaler\n",
    "from sklearn.model_selection import train_test_split\n",
    "from sklearn.pipeline import Pipeline\n",
    "from sklearn.linear_model import LogisticRegression\n",
    "\n",
    "\n",
    "pipe1 = Pipeline([('scaler', StandardScaler()), ('svc', LogisticRegression(max_iter=1000))])\n",
    "pipe2 = Pipeline([('scaler', StandardScaler()), ('svc', LogisticRegression(max_iter=1000))])\n",
    "\n",
    "\n",
    "ad1 = pd.read_csv(\"adult_50k_diffpool_paired_ttest.csv\", index_col=0)\n",
    "ad2 = pd.read_csv(\"adult_50k_w2vec_paired_ttest.csv\",index_col=0)\n",
    "\n",
    "\n"
   ]
  },
  {
   "cell_type": "code",
   "execution_count": 3,
   "id": "86f4dcc1-66f9-4e19-b377-e72f6c463887",
   "metadata": {
    "tags": []
   },
   "outputs": [
    {
     "name": "stdout",
     "output_type": "stream",
     "text": [
      "30162\n",
      "30162\n"
     ]
    }
   ],
   "source": [
    "print(len(ad1.dropna()))\n",
    "print(len(ad2.dropna()))"
   ]
  },
  {
   "cell_type": "code",
   "execution_count": 4,
   "id": "1b39972d-0e2d-444c-a027-82c24e2bfd7c",
   "metadata": {
    "tags": []
   },
   "outputs": [
    {
     "data": {
      "text/plain": [
       "target\n",
       "0    22654\n",
       "1     7508\n",
       "Name: count, dtype: int64"
      ]
     },
     "execution_count": 4,
     "metadata": {},
     "output_type": "execute_result"
    }
   ],
   "source": [
    "t1 = ad1[\"target\"]\n",
    "t2 = ad2[\"target\"]\n",
    "\n",
    "\n",
    "t2.value_counts(dropna=False)\n",
    "\n",
    "t1.value_counts(dropna=False)"
   ]
  },
  {
   "cell_type": "code",
   "execution_count": 5,
   "id": "f09655f5-daf8-4875-a1e8-28d9854e57cc",
   "metadata": {
    "tags": []
   },
   "outputs": [],
   "source": [
    "del ad1[\"target\"]\n",
    "del ad2[\"target\"]"
   ]
  },
  {
   "cell_type": "code",
   "execution_count": 6,
   "id": "2231f053-8371-452e-842e-064876ac2173",
   "metadata": {
    "tags": []
   },
   "outputs": [
    {
     "data": {
      "text/plain": [
       "(0.024813253988848604, 0.9811637650068497)"
      ]
     },
     "execution_count": 6,
     "metadata": {},
     "output_type": "execute_result"
    }
   ],
   "source": [
    "\n",
    "comat.paired_ttest_5x2cv(pipe1,pipe2,ad1,ad2,t1, scoring=\"roc_auc\",random_seed=1500)"
   ]
  },
  {
   "cell_type": "markdown",
   "id": "4215724c-aaee-4e3a-ae74-7b3016cca7c9",
   "metadata": {},
   "source": [
    "# Bank"
   ]
  },
  {
   "cell_type": "code",
   "execution_count": 28,
   "id": "6570a8cc-178d-45ab-862a-c4e817cdc0db",
   "metadata": {
    "tags": []
   },
   "outputs": [],
   "source": [
    "\n",
    "from sklearn.preprocessing import StandardScaler\n",
    "from sklearn.model_selection import train_test_split\n",
    "from sklearn.pipeline import Pipeline\n",
    "from sklearn.linear_model import LogisticRegression\n",
    "\n",
    "\n",
    "pipe1 = Pipeline([('scaler', StandardScaler()), ('svc', LogisticRegression(max_iter=1000))])\n",
    "pipe2 = Pipeline([('scaler', StandardScaler()), ('svc', LogisticRegression(max_iter=1000))])\n",
    "\n",
    "\n",
    "ad1 = pd.read_csv(\"bank_diffpool_paired_ttest.csv\", index_col=0)\n",
    "ad2 = pd.read_csv(\"bank_w2v_paired_ttest.csv\",index_col=0)"
   ]
  },
  {
   "cell_type": "code",
   "execution_count": 31,
   "id": "e589fadd-5f58-4559-98f8-1d059a257bd6",
   "metadata": {
    "tags": []
   },
   "outputs": [
    {
     "data": {
      "text/plain": [
       "0        no\n",
       "1        no\n",
       "2        no\n",
       "3        no\n",
       "4        no\n",
       "         ..\n",
       "32945    no\n",
       "32946    no\n",
       "32947    no\n",
       "32948    no\n",
       "32949    no\n",
       "Name: target, Length: 32950, dtype: object"
      ]
     },
     "execution_count": 31,
     "metadata": {},
     "output_type": "execute_result"
    }
   ],
   "source": [
    "ad2.target"
   ]
  },
  {
   "cell_type": "code",
   "execution_count": 32,
   "id": "8110c759-4bcb-4ada-a4aa-eced5e0e75e8",
   "metadata": {
    "tags": []
   },
   "outputs": [
    {
     "name": "stdout",
     "output_type": "stream",
     "text": [
      "target\n",
      "0    29254\n",
      "1     3696\n",
      "Name: count, dtype: int64\n",
      "target\n",
      "0    29254\n",
      "1     3696\n",
      "Name: count, dtype: int64\n"
     ]
    }
   ],
   "source": [
    "t1 = ad1[\"target\"]\n",
    "t2 = ad2[\"target\"].apply(lambda x: int(x==\"yes\"))\n",
    "\n",
    "\n",
    "print(t2.value_counts(dropna=False))\n",
    "\n",
    "print(t1.value_counts(dropna=False))"
   ]
  },
  {
   "cell_type": "code",
   "execution_count": 33,
   "id": "658ebb82-b8d8-4e39-98b0-a7d70ac9adaf",
   "metadata": {
    "tags": []
   },
   "outputs": [],
   "source": [
    "del ad1[\"target\"]\n",
    "del ad2[\"target\"]"
   ]
  },
  {
   "cell_type": "code",
   "execution_count": 34,
   "id": "7a53e035-21a1-44ea-9920-7a12547dd699",
   "metadata": {
    "tags": []
   },
   "outputs": [
    {
     "data": {
      "text/plain": [
       "(0.00016735360422111733, 0.9998729429052553)"
      ]
     },
     "execution_count": 34,
     "metadata": {},
     "output_type": "execute_result"
    }
   ],
   "source": [
    "comat.paired_ttest_5x2cv(pipe1,pipe2,ad1,ad2,t1, scoring=\"roc_auc\",random_seed=200)"
   ]
  },
  {
   "cell_type": "code",
   "execution_count": null,
   "id": "0a4001f5-2b97-42dd-8acf-fb285cbe5d76",
   "metadata": {},
   "outputs": [],
   "source": [
    "#Census"
   ]
  },
  {
   "cell_type": "code",
   "execution_count": 36,
   "id": "026efe6f-8a5a-4f66-bfa7-78e7db0d2f81",
   "metadata": {
    "tags": []
   },
   "outputs": [],
   "source": [
    "from sklearn.preprocessing import StandardScaler\n",
    "from sklearn.model_selection import train_test_split\n",
    "from sklearn.pipeline import Pipeline\n",
    "from sklearn.linear_model import LogisticRegression\n",
    "\n",
    "\n",
    "pipe1 = Pipeline([('scaler', StandardScaler()), ('svc', LogisticRegression(max_iter=1000))])\n",
    "pipe2 = Pipeline([('scaler', StandardScaler()), ('svc', LogisticRegression(max_iter=1000))])\n",
    "\n",
    "\n",
    "ad1 = pd.read_csv(\"census_diffpool_paired_ttest.csv\", index_col=0)\n",
    "ad2 = pd.read_csv(\"census_w2vec_paired_ttest.csv\",index_col=0)"
   ]
  },
  {
   "cell_type": "code",
   "execution_count": 37,
   "id": "0c6da4b0-8983-471b-931d-2c0450e2e24f",
   "metadata": {
    "tags": []
   },
   "outputs": [],
   "source": [
    "t1 = ad1[\"target\"]\n",
    "t2 = ad2[\"target\"]\n",
    "del ad1[\"target\"]\n",
    "del ad2[\"target\"]"
   ]
  },
  {
   "cell_type": "code",
   "execution_count": 38,
   "id": "8c0f1951-f4e0-4d39-a43d-43b56edf2172",
   "metadata": {
    "tags": []
   },
   "outputs": [
    {
     "name": "stderr",
     "output_type": "stream",
     "text": [
      "/home/sbr@pwo.ou.nl/anaconda3/lib/python3.10/site-packages/sklearn/linear_model/_logistic.py:458: ConvergenceWarning: lbfgs failed to converge (status=1):\n",
      "STOP: TOTAL NO. of ITERATIONS REACHED LIMIT.\n",
      "\n",
      "Increase the number of iterations (max_iter) or scale the data as shown in:\n",
      "    https://scikit-learn.org/stable/modules/preprocessing.html\n",
      "Please also refer to the documentation for alternative solver options:\n",
      "    https://scikit-learn.org/stable/modules/linear_model.html#logistic-regression\n",
      "  n_iter_i = _check_optimize_result(\n",
      "/home/sbr@pwo.ou.nl/anaconda3/lib/python3.10/site-packages/sklearn/linear_model/_logistic.py:458: ConvergenceWarning: lbfgs failed to converge (status=1):\n",
      "STOP: TOTAL NO. of ITERATIONS REACHED LIMIT.\n",
      "\n",
      "Increase the number of iterations (max_iter) or scale the data as shown in:\n",
      "    https://scikit-learn.org/stable/modules/preprocessing.html\n",
      "Please also refer to the documentation for alternative solver options:\n",
      "    https://scikit-learn.org/stable/modules/linear_model.html#logistic-regression\n",
      "  n_iter_i = _check_optimize_result(\n",
      "/home/sbr@pwo.ou.nl/anaconda3/lib/python3.10/site-packages/sklearn/linear_model/_logistic.py:458: ConvergenceWarning: lbfgs failed to converge (status=1):\n",
      "STOP: TOTAL NO. of ITERATIONS REACHED LIMIT.\n",
      "\n",
      "Increase the number of iterations (max_iter) or scale the data as shown in:\n",
      "    https://scikit-learn.org/stable/modules/preprocessing.html\n",
      "Please also refer to the documentation for alternative solver options:\n",
      "    https://scikit-learn.org/stable/modules/linear_model.html#logistic-regression\n",
      "  n_iter_i = _check_optimize_result(\n",
      "/home/sbr@pwo.ou.nl/anaconda3/lib/python3.10/site-packages/sklearn/linear_model/_logistic.py:458: ConvergenceWarning: lbfgs failed to converge (status=1):\n",
      "STOP: TOTAL NO. of ITERATIONS REACHED LIMIT.\n",
      "\n",
      "Increase the number of iterations (max_iter) or scale the data as shown in:\n",
      "    https://scikit-learn.org/stable/modules/preprocessing.html\n",
      "Please also refer to the documentation for alternative solver options:\n",
      "    https://scikit-learn.org/stable/modules/linear_model.html#logistic-regression\n",
      "  n_iter_i = _check_optimize_result(\n",
      "/home/sbr@pwo.ou.nl/anaconda3/lib/python3.10/site-packages/sklearn/linear_model/_logistic.py:458: ConvergenceWarning: lbfgs failed to converge (status=1):\n",
      "STOP: TOTAL NO. of ITERATIONS REACHED LIMIT.\n",
      "\n",
      "Increase the number of iterations (max_iter) or scale the data as shown in:\n",
      "    https://scikit-learn.org/stable/modules/preprocessing.html\n",
      "Please also refer to the documentation for alternative solver options:\n",
      "    https://scikit-learn.org/stable/modules/linear_model.html#logistic-regression\n",
      "  n_iter_i = _check_optimize_result(\n",
      "/home/sbr@pwo.ou.nl/anaconda3/lib/python3.10/site-packages/sklearn/linear_model/_logistic.py:458: ConvergenceWarning: lbfgs failed to converge (status=1):\n",
      "STOP: TOTAL NO. of ITERATIONS REACHED LIMIT.\n",
      "\n",
      "Increase the number of iterations (max_iter) or scale the data as shown in:\n",
      "    https://scikit-learn.org/stable/modules/preprocessing.html\n",
      "Please also refer to the documentation for alternative solver options:\n",
      "    https://scikit-learn.org/stable/modules/linear_model.html#logistic-regression\n",
      "  n_iter_i = _check_optimize_result(\n"
     ]
    },
    {
     "data": {
      "text/plain": [
       "(-0.0024353250674539247, 0.9981510708181325)"
      ]
     },
     "execution_count": 38,
     "metadata": {},
     "output_type": "execute_result"
    }
   ],
   "source": [
    "comat.paired_ttest_5x2cv(pipe1,pipe2,ad1,ad2,t1, scoring=\"roc_auc\",random_seed=200)"
   ]
  }
 ],
 "metadata": {
  "kernelspec": {
   "display_name": "Python 3 (ipykernel)",
   "language": "python",
   "name": "python3"
  },
  "language_info": {
   "codemirror_mode": {
    "name": "ipython",
    "version": 3
   },
   "file_extension": ".py",
   "mimetype": "text/x-python",
   "name": "python",
   "nbconvert_exporter": "python",
   "pygments_lexer": "ipython3",
   "version": "3.11.7"
  }
 },
 "nbformat": 4,
 "nbformat_minor": 5
}
